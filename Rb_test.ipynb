{
  "nbformat": 4,
  "nbformat_minor": 0,
  "metadata": {
    "colab": {
      "name": "Rb test.ipynb",
      "provenance": [],
      "collapsed_sections": [],
      "authorship_tag": "ABX9TyNL3qFcp9JiaAiKBWHNwHzo",
      "include_colab_link": true
    },
    "kernelspec": {
      "name": "python3",
      "display_name": "Python 3"
    }
  },
  "cells": [
    {
      "cell_type": "markdown",
      "metadata": {
        "id": "view-in-github",
        "colab_type": "text"
      },
      "source": [
        "<a href=\"https://colab.research.google.com/github/vladke95/Job_test/blob/main/Rb_test.ipynb\" target=\"_parent\"><img src=\"https://colab.research.google.com/assets/colab-badge.svg\" alt=\"Open In Colab\"/></a>"
      ]
    },
    {
      "cell_type": "code",
      "metadata": {
        "id": "a81lF8WGmfCf",
        "colab": {
          "base_uri": "https://localhost:8080/",
          "height": 239
        },
        "cellView": "form",
        "outputId": "96873515-303f-456c-a591-dd06bcb0259d"
      },
      "source": [
        "# @title\r\n",
        "import pandas as pd\r\n",
        "import numpy as np\r\n",
        "import matplotlib.pyplot as plt\r\n",
        "%matplotlib inline\r\n",
        "\r\n",
        "from google.colab import drive\r\n",
        "drive.mount('/content/drive')\r\n",
        "\r\n",
        "# Plot constants and colors\r\n",
        "BAR_COLOR  = '#e66707'\r\n",
        "BAR_COLOR2 = '#a32c1a'\r\n",
        "BAR_COLOR3 = '#309e15'\r\n",
        "TICK_COLOR = '#000000'\r\n",
        "TITLE_FONT_SIZE= 16\r\n",
        "LABEL_FONT_SIZE= 14\r\n",
        "################################\r\n",
        "\r\n",
        "# Training and testing data loading\r\n",
        "# I loaded data from google drive, also my data is modified, not original.\r\n",
        "\r\n",
        "train_df = pd.read_csv('/content/drive/My Drive/Colab Notebooks/RB/Retail_data.csv')\r\n",
        "test_df  = pd.read_csv('/content/drive/My Drive/Colab Notebooks/RB/Potential_Customers.csv')\r\n",
        "train_and_test = [train_df,test_df]\r\n",
        "\r\n",
        "train_df.head()"
      ],
      "execution_count": 34,
      "outputs": [
        {
          "output_type": "stream",
          "text": [
            "Drive already mounted at /content/drive; to attempt to forcibly remount, call drive.mount(\"/content/drive\", force_remount=True).\n"
          ],
          "name": "stdout"
        },
        {
          "output_type": "execute_result",
          "data": {
            "text/html": [
              "<div>\n",
              "<style scoped>\n",
              "    .dataframe tbody tr th:only-of-type {\n",
              "        vertical-align: middle;\n",
              "    }\n",
              "\n",
              "    .dataframe tbody tr th {\n",
              "        vertical-align: top;\n",
              "    }\n",
              "\n",
              "    .dataframe thead th {\n",
              "        text-align: right;\n",
              "    }\n",
              "</style>\n",
              "<table border=\"1\" class=\"dataframe\">\n",
              "  <thead>\n",
              "    <tr style=\"text-align: right;\">\n",
              "      <th></th>\n",
              "      <th>Cocunut</th>\n",
              "      <th>Mortgage_YN</th>\n",
              "      <th>AGE_AT_ORIGINATION</th>\n",
              "      <th>AGE</th>\n",
              "      <th>YEARS_WITH_BANK</th>\n",
              "      <th>MARTIAL_STATUS</th>\n",
              "      <th>EDUCATION</th>\n",
              "      <th>EMPLOYMENT</th>\n",
              "      <th>GENDER</th>\n",
              "      <th>CUST_INCOME</th>\n",
              "      <th>CUST_INCOME_2ND_PART</th>\n",
              "      <th>CURRENT_ADDRESS_DATE</th>\n",
              "      <th>CURRENT_JOB_DATE</th>\n",
              "      <th>CURRENT_WITH_BANK_DATE</th>\n",
              "      <th>CURRENT_BALANCE_EUR</th>\n",
              "      <th>CURRENT_BALANCE_EUR_2ND_PART</th>\n",
              "    </tr>\n",
              "  </thead>\n",
              "  <tbody>\n",
              "    <tr>\n",
              "      <th>0</th>\n",
              "      <td>1</td>\n",
              "      <td>Y</td>\n",
              "      <td>50.0</td>\n",
              "      <td>52</td>\n",
              "      <td>13</td>\n",
              "      <td>M</td>\n",
              "      <td>HGH</td>\n",
              "      <td>PVE</td>\n",
              "      <td>M</td>\n",
              "      <td>909</td>\n",
              "      <td>5013077</td>\n",
              "      <td>1979-04-18</td>\n",
              "      <td>2010-01-01</td>\n",
              "      <td>2004-03-16</td>\n",
              "      <td>7648.0</td>\n",
              "      <td>350692.0</td>\n",
              "    </tr>\n",
              "    <tr>\n",
              "      <th>1</th>\n",
              "      <td>9</td>\n",
              "      <td>Y</td>\n",
              "      <td>48.0</td>\n",
              "      <td>49</td>\n",
              "      <td>11</td>\n",
              "      <td>M</td>\n",
              "      <td>HGH</td>\n",
              "      <td>SFE</td>\n",
              "      <td>M</td>\n",
              "      <td>288</td>\n",
              "      <td>4615385</td>\n",
              "      <td>1999-12-16</td>\n",
              "      <td>2004-01-20</td>\n",
              "      <td>2005-11-07</td>\n",
              "      <td>30189.0</td>\n",
              "      <td>90492.0</td>\n",
              "    </tr>\n",
              "    <tr>\n",
              "      <th>2</th>\n",
              "      <td>11</td>\n",
              "      <td>Y</td>\n",
              "      <td>53.0</td>\n",
              "      <td>55</td>\n",
              "      <td>14</td>\n",
              "      <td>M</td>\n",
              "      <td>BCR</td>\n",
              "      <td>STE</td>\n",
              "      <td>M</td>\n",
              "      <td>1280</td>\n",
              "      <td>528692</td>\n",
              "      <td>2005-06-28</td>\n",
              "      <td>1990-09-01</td>\n",
              "      <td>2003-06-25</td>\n",
              "      <td>50553.0</td>\n",
              "      <td>17454.0</td>\n",
              "    </tr>\n",
              "    <tr>\n",
              "      <th>3</th>\n",
              "      <td>12</td>\n",
              "      <td>Y</td>\n",
              "      <td>64.0</td>\n",
              "      <td>66</td>\n",
              "      <td>10</td>\n",
              "      <td>M</td>\n",
              "      <td>BCR</td>\n",
              "      <td>OTH</td>\n",
              "      <td>F</td>\n",
              "      <td>620</td>\n",
              "      <td>9597692</td>\n",
              "      <td>2000-12-22</td>\n",
              "      <td>9999-10-01</td>\n",
              "      <td>2006-12-21</td>\n",
              "      <td>15907.0</td>\n",
              "      <td>28338.0</td>\n",
              "    </tr>\n",
              "    <tr>\n",
              "      <th>4</th>\n",
              "      <td>18</td>\n",
              "      <td>Y</td>\n",
              "      <td>46.0</td>\n",
              "      <td>47</td>\n",
              "      <td>9</td>\n",
              "      <td>S</td>\n",
              "      <td>MAS</td>\n",
              "      <td>PVE</td>\n",
              "      <td>F</td>\n",
              "      <td>2239</td>\n",
              "      <td>853846</td>\n",
              "      <td>2009-08-01</td>\n",
              "      <td>2013-12-24</td>\n",
              "      <td>2007-08-07</td>\n",
              "      <td>27916.0</td>\n",
              "      <td>19262.0</td>\n",
              "    </tr>\n",
              "  </tbody>\n",
              "</table>\n",
              "</div>"
            ],
            "text/plain": [
              "   Cocunut Mortgage_YN  ...  CURRENT_BALANCE_EUR  CURRENT_BALANCE_EUR_2ND_PART\n",
              "0        1           Y  ...               7648.0                      350692.0\n",
              "1        9           Y  ...              30189.0                       90492.0\n",
              "2       11           Y  ...              50553.0                       17454.0\n",
              "3       12           Y  ...              15907.0                       28338.0\n",
              "4       18           Y  ...              27916.0                       19262.0\n",
              "\n",
              "[5 rows x 16 columns]"
            ]
          },
          "metadata": {
            "tags": []
          },
          "execution_count": 34
        }
      ]
    },
    {
      "cell_type": "markdown",
      "metadata": {
        "id": "Z4dOWLY_6Rov"
      },
      "source": [
        "We are going to discuss each feature to see how should they affect Mortgage and what to expect while analysing results that model gave.\r\n",
        "\r\n",
        "\r\n",
        "Cocunut is some sort of ID. It doesn't affect Mortgage.\r\n",
        "\r\n",
        "Age at which person take Morgage should replace current Age for people who took Morgage. And then Age at origination will not be considered and modified Age will.\r\n",
        "\r\n",
        "Years with bank, Martial status, Education, Employment, Gender, Customer income and Current balance should all have correlation with Mortgage, some with stronger, some with weaker correlation.\r\n",
        "\r\n",
        "For Address, Job and Bank Date we are going to extract only year and check correlation.\r\n"
      ]
    },
    {
      "cell_type": "code",
      "metadata": {
        "colab": {
          "base_uri": "https://localhost:8080/",
          "height": 222
        },
        "id": "bjdCcGgp3RDS",
        "outputId": "54f6b2cc-e590-4752-b924-df97ad4b9716"
      },
      "source": [
        "# @title/\r\n",
        "# Data formating\r\n",
        "\r\n",
        "train_df['Mortgage_YN'] = train_df['Mortgage_YN'].map( {'N': 0, 'Y': 1} ).astype(int)\r\n",
        "\r\n",
        "mort_y_n = train_df['Mortgage_YN'].value_counts()[1]\r\n",
        "for i in range(mort_y_n):\r\n",
        "    train_df.loc[i, 'AGE'] = int(train_df['AGE_AT_ORIGINATION'][i])\r\n",
        "\r\n",
        "train_df  = train_df.drop(['AGE_AT_ORIGINATION'], axis=1)\r\n",
        "\r\n",
        "train_df.head()"
      ],
      "execution_count": 35,
      "outputs": [
        {
          "output_type": "execute_result",
          "data": {
            "text/html": [
              "<div>\n",
              "<style scoped>\n",
              "    .dataframe tbody tr th:only-of-type {\n",
              "        vertical-align: middle;\n",
              "    }\n",
              "\n",
              "    .dataframe tbody tr th {\n",
              "        vertical-align: top;\n",
              "    }\n",
              "\n",
              "    .dataframe thead th {\n",
              "        text-align: right;\n",
              "    }\n",
              "</style>\n",
              "<table border=\"1\" class=\"dataframe\">\n",
              "  <thead>\n",
              "    <tr style=\"text-align: right;\">\n",
              "      <th></th>\n",
              "      <th>Cocunut</th>\n",
              "      <th>Mortgage_YN</th>\n",
              "      <th>AGE</th>\n",
              "      <th>YEARS_WITH_BANK</th>\n",
              "      <th>MARTIAL_STATUS</th>\n",
              "      <th>EDUCATION</th>\n",
              "      <th>EMPLOYMENT</th>\n",
              "      <th>GENDER</th>\n",
              "      <th>CUST_INCOME</th>\n",
              "      <th>CUST_INCOME_2ND_PART</th>\n",
              "      <th>CURRENT_ADDRESS_DATE</th>\n",
              "      <th>CURRENT_JOB_DATE</th>\n",
              "      <th>CURRENT_WITH_BANK_DATE</th>\n",
              "      <th>CURRENT_BALANCE_EUR</th>\n",
              "      <th>CURRENT_BALANCE_EUR_2ND_PART</th>\n",
              "    </tr>\n",
              "  </thead>\n",
              "  <tbody>\n",
              "    <tr>\n",
              "      <th>0</th>\n",
              "      <td>1</td>\n",
              "      <td>1</td>\n",
              "      <td>50</td>\n",
              "      <td>13</td>\n",
              "      <td>M</td>\n",
              "      <td>HGH</td>\n",
              "      <td>PVE</td>\n",
              "      <td>M</td>\n",
              "      <td>909</td>\n",
              "      <td>5013077</td>\n",
              "      <td>1979-04-18</td>\n",
              "      <td>2010-01-01</td>\n",
              "      <td>2004-03-16</td>\n",
              "      <td>7648.0</td>\n",
              "      <td>350692.0</td>\n",
              "    </tr>\n",
              "    <tr>\n",
              "      <th>1</th>\n",
              "      <td>9</td>\n",
              "      <td>1</td>\n",
              "      <td>48</td>\n",
              "      <td>11</td>\n",
              "      <td>M</td>\n",
              "      <td>HGH</td>\n",
              "      <td>SFE</td>\n",
              "      <td>M</td>\n",
              "      <td>288</td>\n",
              "      <td>4615385</td>\n",
              "      <td>1999-12-16</td>\n",
              "      <td>2004-01-20</td>\n",
              "      <td>2005-11-07</td>\n",
              "      <td>30189.0</td>\n",
              "      <td>90492.0</td>\n",
              "    </tr>\n",
              "    <tr>\n",
              "      <th>2</th>\n",
              "      <td>11</td>\n",
              "      <td>1</td>\n",
              "      <td>53</td>\n",
              "      <td>14</td>\n",
              "      <td>M</td>\n",
              "      <td>BCR</td>\n",
              "      <td>STE</td>\n",
              "      <td>M</td>\n",
              "      <td>1280</td>\n",
              "      <td>528692</td>\n",
              "      <td>2005-06-28</td>\n",
              "      <td>1990-09-01</td>\n",
              "      <td>2003-06-25</td>\n",
              "      <td>50553.0</td>\n",
              "      <td>17454.0</td>\n",
              "    </tr>\n",
              "    <tr>\n",
              "      <th>3</th>\n",
              "      <td>12</td>\n",
              "      <td>1</td>\n",
              "      <td>64</td>\n",
              "      <td>10</td>\n",
              "      <td>M</td>\n",
              "      <td>BCR</td>\n",
              "      <td>OTH</td>\n",
              "      <td>F</td>\n",
              "      <td>620</td>\n",
              "      <td>9597692</td>\n",
              "      <td>2000-12-22</td>\n",
              "      <td>9999-10-01</td>\n",
              "      <td>2006-12-21</td>\n",
              "      <td>15907.0</td>\n",
              "      <td>28338.0</td>\n",
              "    </tr>\n",
              "    <tr>\n",
              "      <th>4</th>\n",
              "      <td>18</td>\n",
              "      <td>1</td>\n",
              "      <td>46</td>\n",
              "      <td>9</td>\n",
              "      <td>S</td>\n",
              "      <td>MAS</td>\n",
              "      <td>PVE</td>\n",
              "      <td>F</td>\n",
              "      <td>2239</td>\n",
              "      <td>853846</td>\n",
              "      <td>2009-08-01</td>\n",
              "      <td>2013-12-24</td>\n",
              "      <td>2007-08-07</td>\n",
              "      <td>27916.0</td>\n",
              "      <td>19262.0</td>\n",
              "    </tr>\n",
              "  </tbody>\n",
              "</table>\n",
              "</div>"
            ],
            "text/plain": [
              "   Cocunut  Mortgage_YN  ...  CURRENT_BALANCE_EUR  CURRENT_BALANCE_EUR_2ND_PART\n",
              "0        1            1  ...               7648.0                      350692.0\n",
              "1        9            1  ...              30189.0                       90492.0\n",
              "2       11            1  ...              50553.0                       17454.0\n",
              "3       12            1  ...              15907.0                       28338.0\n",
              "4       18            1  ...              27916.0                       19262.0\n",
              "\n",
              "[5 rows x 15 columns]"
            ]
          },
          "metadata": {
            "tags": []
          },
          "execution_count": 35
        }
      ]
    },
    {
      "cell_type": "code",
      "metadata": {
        "colab": {
          "base_uri": "https://localhost:8080/",
          "height": 788
        },
        "id": "_3thNExPn_XS",
        "outputId": "e0a8ed40-559c-4240-b46b-e29d47ab5d5c"
      },
      "source": [
        "\r\n",
        "plt.figure(figsize=(17, 13))\r\n",
        "plt.subplots_adjust(hspace = 0.4)\r\n",
        "k=221\r\n",
        "for ftr in ['MARTIAL_STATUS', 'EDUCATION', 'EMPLOYMENT', 'GENDER']:\r\n",
        "    tmp = train_df[[ftr, 'Mortgage_YN']].groupby([ftr], as_index=False).mean().sort_values(by='Mortgage_YN', ascending=False)\r\n",
        "    plt.subplot(k)\r\n",
        "    k+=1\r\n",
        "    plt.bar(tmp[ftr],tmp['Mortgage_YN']*100, color=BAR_COLOR)\r\n",
        "    plt.title(\"Mortgage chance by \" + ftr + \" (%)\\n\", fontsize=TITLE_FONT_SIZE*0.9, color=TICK_COLOR)\r\n",
        "    plt.grid(axis='y')"
      ],
      "execution_count": 57,
      "outputs": [
        {
          "output_type": "display_data",
          "data": {
            "image/png": "[encoded data removed]",
            "text/plain": [
              "<Figure size 1224x936 with 4 Axes>"
            ]
          },
          "metadata": {
            "tags": [],
            "needs_background": "light"
          }
        }
      ]
    },
    {
      "cell_type": "code",
      "metadata": {
        "colab": {
          "base_uri": "https://localhost:8080/"
        },
        "id": "J2CZi-LJMtD7",
        "outputId": "de773e31-9223-48a1-d692-c08e473c382d"
      },
      "source": [
        "train_df.info()"
      ],
      "execution_count": 38,
      "outputs": [
        {
          "output_type": "stream",
          "text": [
            "<class 'pandas.core.frame.DataFrame'>\n",
            "RangeIndex: 23983 entries, 0 to 23982\n",
            "Data columns (total 15 columns):\n",
            " #   Column                        Non-Null Count  Dtype  \n",
            "---  ------                        --------------  -----  \n",
            " 0   Cocunut                       23983 non-null  int64  \n",
            " 1   Mortgage_YN                   23983 non-null  int64  \n",
            " 2   AGE                           23983 non-null  int64  \n",
            " 3   YEARS_WITH_BANK               23983 non-null  int64  \n",
            " 4   MARTIAL_STATUS                23983 non-null  object \n",
            " 5   EDUCATION                     23983 non-null  object \n",
            " 6   EMPLOYMENT                    23983 non-null  object \n",
            " 7   GENDER                        23983 non-null  object \n",
            " 8   CUST_INCOME                   23983 non-null  int64  \n",
            " 9   CUST_INCOME_2ND_PART          23983 non-null  object \n",
            " 10  CURRENT_ADDRESS_DATE          23983 non-null  object \n",
            " 11  CURRENT_JOB_DATE              23983 non-null  object \n",
            " 12  CURRENT_WITH_BANK_DATE        23983 non-null  object \n",
            " 13  CURRENT_BALANCE_EUR           23923 non-null  float64\n",
            " 14  CURRENT_BALANCE_EUR_2ND_PART  20783 non-null  float64\n",
            "dtypes: float64(2), int64(5), object(8)\n",
            "memory usage: 2.7+ MB\n"
          ],
          "name": "stdout"
        }
      ]
    },
    {
      "cell_type": "code",
      "metadata": {
        "colab": {
          "base_uri": "https://localhost:8080/"
        },
        "id": "zL59-7U__et8",
        "outputId": "794597df-91ad-4978-eebb-a8f413face6c"
      },
      "source": [
        "train_df['EDUCATION'].value_counts()"
      ],
      "execution_count": 40,
      "outputs": [
        {
          "output_type": "execute_result",
          "data": {
            "text/plain": [
              "HGH    15987\n",
              "BCR     6629\n",
              "PRS      633\n",
              "SEC      416\n",
              "MAS      193\n",
              "PHD      117\n",
              "PRI        6\n",
              "OTH        2\n",
              "Name: EDUCATION, dtype: int64"
            ]
          },
          "metadata": {
            "tags": []
          },
          "execution_count": 40
        }
      ]
    }
  ]
}